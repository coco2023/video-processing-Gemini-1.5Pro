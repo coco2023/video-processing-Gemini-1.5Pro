{
  "nbformat": 4,
  "nbformat_minor": 0,
  "metadata": {
    "colab": {
      "provenance": [],
      "include_colab_link": true
    },
    "kernelspec": {
      "name": "python3",
      "display_name": "Python 3"
    },
    "language_info": {
      "name": "python"
    }
  },
  "cells": [
    {
      "cell_type": "markdown",
      "metadata": {
        "id": "view-in-github",
        "colab_type": "text"
      },
      "source": [
        "<a href=\"https://colab.research.google.com/github/coco2023/videos-processing/blob/main/20240517/aristAI/src/main/com/video-processing/20240517_train_v2.ipynb\" target=\"_parent\"><img src=\"https://colab.research.google.com/assets/colab-badge.svg\" alt=\"Open In Colab\"/></a>"
      ]
    },
    {
      "cell_type": "markdown",
      "source": [
        "# whole process in Github Repo: https://github.com/coco2023/videos-processing/tree/main/20240517"
      ],
      "metadata": {
        "id": "41ylkfVkWr21"
      }
    },
    {
      "cell_type": "code",
      "execution_count": null,
      "metadata": {
        "id": "p8h9Eus77fA7",
        "outputId": "910d12fd-ee28-4999-b993-36b9ba3f017c",
        "colab": {
          "base_uri": "https://localhost:8080/"
        }
      },
      "outputs": [
        {
          "output_type": "stream",
          "name": "stdout",
          "text": [
            "\u001b[?25l     \u001b[90m━━━━━━━━━━━━━━━━━━━━━━━━━━━━━━━━━━━━━━━━\u001b[0m \u001b[32m0.0/150.7 kB\u001b[0m \u001b[31m?\u001b[0m eta \u001b[36m-:--:--\u001b[0m\r\u001b[2K     \u001b[91m━━━━━━━━━━━━━━━━━━━━━━━━━━━━━━━━━━━━━━\u001b[0m\u001b[90m╺\u001b[0m\u001b[90m━\u001b[0m \u001b[32m143.4/150.7 kB\u001b[0m \u001b[31m4.2 MB/s\u001b[0m eta \u001b[36m0:00:01\u001b[0m\r\u001b[2K     \u001b[90m━━━━━━━━━━━━━━━━━━━━━━━━━━━━━━━━━━━━━━━━\u001b[0m \u001b[32m150.7/150.7 kB\u001b[0m \u001b[31m3.0 MB/s\u001b[0m eta \u001b[36m0:00:00\u001b[0m\n",
            "\u001b[?25h\u001b[?25l     \u001b[90m━━━━━━━━━━━━━━━━━━━━━━━━━━━━━━━━━━━━━━━━\u001b[0m \u001b[32m0.0/679.1 kB\u001b[0m \u001b[31m?\u001b[0m eta \u001b[36m-:--:--\u001b[0m\r\u001b[2K     \u001b[91m━━━━━━━━━━━━━━━━━━━━━━━━━━━━━━\u001b[0m\u001b[91m╸\u001b[0m\u001b[90m━━━━━━━━━\u001b[0m \u001b[32m522.2/679.1 kB\u001b[0m \u001b[31m15.2 MB/s\u001b[0m eta \u001b[36m0:00:01\u001b[0m\r\u001b[2K     \u001b[90m━━━━━━━━━━━━━━━━━━━━━━━━━━━━━━━━━━━━━━━━\u001b[0m \u001b[32m679.1/679.1 kB\u001b[0m \u001b[31m11.4 MB/s\u001b[0m eta \u001b[36m0:00:00\u001b[0m\n",
            "\u001b[?25h"
          ]
        }
      ],
      "source": [
        "!pip install -U -q google-generativeai"
      ]
    },
    {
      "cell_type": "code",
      "source": [
        "from google.colab import drive\n",
        "drive.mount('/content/drive')"
      ],
      "metadata": {
        "colab": {
          "base_uri": "https://localhost:8080/"
        },
        "id": "gDRVE4AI8R8U",
        "outputId": "a91217b9-27d1-4afb-8b7e-411d20fa3778"
      },
      "execution_count": null,
      "outputs": [
        {
          "output_type": "stream",
          "name": "stdout",
          "text": [
            "Mounted at /content/drive\n"
          ]
        }
      ]
    },
    {
      "cell_type": "code",
      "source": [
        "import google.generativeai as genai"
      ],
      "metadata": {
        "id": "y-9IA7Mc7s0O"
      },
      "execution_count": null,
      "outputs": []
    },
    {
      "cell_type": "code",
      "source": [
        "from google.colab import userdata\n",
        "GOOGLE_API_KEY=userdata.get('GOOGLE_API_KEY2')\n",
        "genai.configure(api_key=GOOGLE_API_KEY)"
      ],
      "metadata": {
        "id": "lUfsiArv7s7e"
      },
      "execution_count": null,
      "outputs": []
    },
    {
      "cell_type": "code",
      "source": [
        "text_file_name = \"/content/drive/MyDrive/Colab Notebooks/transcriptions.txt\"\n",
        "print(f\"Uploading file...\")\n",
        "text_file = genai.upload_file(path=text_file_name)\n",
        "print(f\"Completed upload: {text_file.uri}\")"
      ],
      "metadata": {
        "colab": {
          "base_uri": "https://localhost:8080/",
          "height": 52
        },
        "id": "1g-cxHRx7s-G",
        "outputId": "287a8273-6dc4-4077-c1f8-3f7d2ba64771"
      },
      "execution_count": null,
      "outputs": [
        {
          "output_type": "stream",
          "name": "stdout",
          "text": [
            "Uploading file...\n",
            "Completed upload: https://generativelanguage.googleapis.com/v1beta/files/muruaf7wxlqe\n"
          ]
        }
      ]
    },
    {
      "cell_type": "code",
      "source": [
        "default = \"return the original sentences in the list format: origin_list\"\n",
        "\n",
        "prompt = \"what does the content with id 1ESOfxO78B8 tell us? also please return the referred infomation （original sentences in txt file) you use to generate the answer\"\n",
        "# prompt = \"what is the format & sample of the txt file? how you understand the txt file?\"\n",
        "model = genai.GenerativeModel(model_name=\"models/gemini-1.5-pro-latest\")\n",
        "\n",
        "response = model.generate_content([prompt, text_file],\n",
        "                                  request_options={\"timeout\": 600})\n",
        "print(response.text)"
      ],
      "metadata": {
        "id": "D6c4-o7k7tAu",
        "colab": {
          "base_uri": "https://localhost:8080/",
          "height": 215
        },
        "outputId": "6f41f61d-fb9d-4241-c63a-094d38a353ea"
      },
      "execution_count": null,
      "outputs": [
        {
          "output_type": "stream",
          "name": "stdout",
          "text": [
            "The content with ID 1ESOfxO78B8 tells us that credit condition remains a challenge for small businesses in recovering from an economic downturn and the Federal Reserve is organizing meetings to gather information to help develop policies that will support the flow of loans to them.\n",
            "\n",
            "Here are the original sentences:\n",
            "\n",
            "* \"Small businesses are essential to creating jobs in our economy they employ roughly one half of all Americans and accounts for about 60% of gross job creation.\"\n",
            "* \"newer small businesses less than two years old are especially important over the past 20 years these start-up Enterprises accounted for roughly one-quarter of gross job creation even though they employ collectively less than 10% of the workforce\"\n",
            "* \"the formation and growth of small businesses depends critically on access to credit unfortunately those\"\n",
            "* \"census report that credit conditions remain very difficult for example the net percentage of survey respondents telling the national Federation of Independent Business that credit conditions have Titan over the prior three months has remained extremely elevated by historical standards\"\n",
            "* \"our objective in organizing the series was to gather information that we and others can use to help develop policies that will support the flow of loans to credit where these small businesses for instance by identifying and addressing specific credit Caps or impediments to lending or improving access to small businesses to critical support services such as assistance in filing loan applications\" \n",
            "\n"
          ]
        }
      ]
    },
    {
      "cell_type": "code",
      "source": [
        "import re\n",
        "\n",
        "# Extracting sentences\n",
        "pattern = r'\\*\\*\\s.+:\\s\\*\\*|\"(.*?)\"'\n",
        "matches = re.findall(pattern, response.text, re.DOTALL)\n",
        "\n",
        "# Cleaning and filtering the matches\n",
        "sentences = [match for match in matches if match and not match.startswith('**')]\n",
        "\n",
        "# # Printing the sentences\n",
        "# for sentence in sentences:\n",
        "#     print(sentence)\n",
        "\n",
        "# Saving sentences to a list\n",
        "original_sentences = [sentence for sentence in sentences]\n",
        "\n",
        "# Display the list\n",
        "original_sentences\n"
      ],
      "metadata": {
        "id": "m_ujylVLHDv0",
        "outputId": "2cde9b67-749b-4993-8c84-8229e84c64d8",
        "colab": {
          "base_uri": "https://localhost:8080/"
        }
      },
      "execution_count": null,
      "outputs": [
        {
          "output_type": "execute_result",
          "data": {
            "text/plain": [
              "['Small businesses are essential to creating jobs in our economy they employ roughly one half of all Americans and accounts for about 60% of gross job creation.',\n",
              " 'newer small businesses less than two years old are especially important over the past 20 years these start-up Enterprises accounted for roughly one-quarter of gross job creation even though they employ collectively less than 10% of the workforce',\n",
              " 'the formation and growth of small businesses depends critically on access to credit unfortunately those',\n",
              " 'census report that credit conditions remain very difficult for example the net percentage of survey respondents telling the national Federation of Independent Business that credit conditions have Titan over the prior three months has remained extremely elevated by historical standards',\n",
              " 'our objective in organizing the series was to gather information that we and others can use to help develop policies that will support the flow of loans to credit where these small businesses for instance by identifying and addressing specific credit Caps or impediments to lending or improving access to small businesses to critical support services such as assistance in filing loan applications']"
            ]
          },
          "metadata": {},
          "execution_count": 17
        }
      ]
    },
    {
      "cell_type": "code",
      "source": [
        "import json\n",
        "\n",
        "# Path to the JSON file\n",
        "json_file_path = \"/content/drive/MyDrive/Colab Notebooks/transcriptions.json\"\n",
        "# Load JSON data from file\n",
        "with open(json_file_path, 'r') as file:\n",
        "    data = json.load(file)\n",
        "\n",
        "# Function to match sentences and get timestamps\n",
        "def get_timestamps(data, sentence_list):\n",
        "    timestamps = {}\n",
        "    for entry in data:\n",
        "        for key, value in entry.items():\n",
        "            if value in sentence_list:\n",
        "                parts = key.split('#')\n",
        "                playlist = parts[0]\n",
        "                video_list = parts[2]\n",
        "                video_seg = parts[4]\n",
        "\n",
        "                start_time = parts[-2]\n",
        "                end_time = parts[-1]\n",
        "\n",
        "                # timestamps[value] = f\"{start_time} to {end_time}\"\n",
        "                timestamps[value] = key\n",
        "\n",
        "    return timestamps\n",
        "\n",
        "# Get the matching timestamps\n",
        "timestamps = get_timestamps(data, original_sentences)\n",
        "\n",
        "# Print the results\n",
        "# for sentence, timestamp in timestamps.items():\n",
        "#     print(f\"Sentence: {sentence}\")\n",
        "#     print(f\"Timestamp: {timestamp}\")\n",
        "#     print()\n",
        "\n",
        "# Output the results as a dictionary\n",
        "timestamps"
      ],
      "metadata": {
        "id": "QNBMfzw8IBQc",
        "outputId": "8fca20bb-cf41-4d08-88b1-47389f73dcf7",
        "colab": {
          "base_uri": "https://localhost:8080/"
        }
      },
      "execution_count": null,
      "outputs": [
        {
          "output_type": "execute_result",
          "data": {
            "text/plain": [
              "{'our objective in organizing the series was to gather information that we and others can use to help develop policies that will support the flow of loans to credit where these small businesses for instance by identifying and addressing specific credit Caps or impediments to lending or improving access to small businesses to critical support services such as assistance in filing loan applications': '1ESOfxO78B8#9#PL_oohi_O51Z_lORk8SCG_4x1smii5ky7f#segment#2#00:00:23.500#00:00:46.700',\n",
              " 'newer small businesses less than two years old are especially important over the past 20 years these start-up Enterprises accounted for roughly one-quarter of gross job creation even though they employ collectively less than 10% of the workforce': '1ESOfxO78B8#9#PL_oohi_O51Z_lORk8SCG_4x1smii5ky7f#segment#3#00:00:35.600#00:00:50.100',\n",
              " 'the formation and growth of small businesses depends critically on access to credit unfortunately those': '1ESOfxO78B8#9#PL_oohi_O51Z_lORk8SCG_4x1smii5ky7f#segment#3#00:00:52.000#00:00:58.800',\n",
              " 'census report that credit conditions remain very difficult for example the net percentage of survey respondents telling the national Federation of Independent Business that credit conditions have Titan over the prior three months has remained extremely elevated by historical standards': '1ESOfxO78B8#9#PL_oohi_O51Z_lORk8SCG_4x1smii5ky7f#segment#4#00:00:00.000#00:00:15.500'}"
            ]
          },
          "metadata": {},
          "execution_count": 18
        }
      ]
    },
    {
      "cell_type": "code",
      "source": [
        "# Iterate over each entry in the JSON data\n",
        "for sentence, key in timestamps.items():\n",
        "    parts = key.split('#')\n",
        "    playlist_id = parts[0]\n",
        "    video_id = parts[2]\n",
        "    segment_num = parts[4]\n",
        "    start_time = parts[5]\n",
        "    end_time = parts[6]\n",
        "\n",
        "    # Print the extracted information\n",
        "    print(f\"Sentence: {sentence}\")\n",
        "    print(f\"Playlist ID: {playlist_id}\")\n",
        "    print(f\"Video ID: {video_id}\")\n",
        "    print(f\"Segment Number: {segment_num}\")\n",
        "    print(f\"Start Time: {start_time}\")\n",
        "    print(f\"End Time: {end_time}\")\n",
        "    print()\n"
      ],
      "metadata": {
        "colab": {
          "base_uri": "https://localhost:8080/"
        },
        "id": "pmSsjnmlQeg1",
        "outputId": "92ccde87-d673-4bee-9234-0b0f3f94b052"
      },
      "execution_count": null,
      "outputs": [
        {
          "output_type": "stream",
          "name": "stdout",
          "text": [
            "Sentence: our objective in organizing the series was to gather information that we and others can use to help develop policies that will support the flow of loans to credit where these small businesses for instance by identifying and addressing specific credit Caps or impediments to lending or improving access to small businesses to critical support services such as assistance in filing loan applications\n",
            "Playlist ID: 1ESOfxO78B8\n",
            "Video ID: PL_oohi_O51Z_lORk8SCG_4x1smii5ky7f\n",
            "Segment Number: 2\n",
            "Start Time: 00:00:23.500\n",
            "End Time: 00:00:46.700\n",
            "\n",
            "Sentence: newer small businesses less than two years old are especially important over the past 20 years these start-up Enterprises accounted for roughly one-quarter of gross job creation even though they employ collectively less than 10% of the workforce\n",
            "Playlist ID: 1ESOfxO78B8\n",
            "Video ID: PL_oohi_O51Z_lORk8SCG_4x1smii5ky7f\n",
            "Segment Number: 3\n",
            "Start Time: 00:00:35.600\n",
            "End Time: 00:00:50.100\n",
            "\n",
            "Sentence: the formation and growth of small businesses depends critically on access to credit unfortunately those\n",
            "Playlist ID: 1ESOfxO78B8\n",
            "Video ID: PL_oohi_O51Z_lORk8SCG_4x1smii5ky7f\n",
            "Segment Number: 3\n",
            "Start Time: 00:00:52.000\n",
            "End Time: 00:00:58.800\n",
            "\n",
            "Sentence: census report that credit conditions remain very difficult for example the net percentage of survey respondents telling the national Federation of Independent Business that credit conditions have Titan over the prior three months has remained extremely elevated by historical standards\n",
            "Playlist ID: 1ESOfxO78B8\n",
            "Video ID: PL_oohi_O51Z_lORk8SCG_4x1smii5ky7f\n",
            "Segment Number: 4\n",
            "Start Time: 00:00:00.000\n",
            "End Time: 00:00:15.500\n",
            "\n"
          ]
        }
      ]
    },
    {
      "cell_type": "code",
      "source": [
        "from collections import defaultdict\n",
        "\n",
        "# Define a nested defaultdict structure to store the extracted information\n",
        "extracted_info = defaultdict(lambda: defaultdict(lambda: defaultdict(list)))\n",
        "\n",
        "# Iterate over each entry in the JSON data\n",
        "for sentence, key in timestamps.items():\n",
        "    parts = key.split('#')\n",
        "    playlist_id = parts[0]\n",
        "    video_id = parts[2]\n",
        "    segment_num = parts[4]\n",
        "    start_time = parts[5]\n",
        "    end_time = parts[6]\n",
        "\n",
        "    # Store the extracted information in the nested dictionary\n",
        "    extracted_info[playlist_id][video_id][segment_num] = [start_time, end_time]\n",
        "\n",
        "# Print the extracted information in the desired structure\n",
        "for playlist_id, video_info in extracted_info.items():\n",
        "    print(f\"Playlist ID: {playlist_id}\")\n",
        "    for video_id, segment_info in video_info.items():\n",
        "        print(f\"  Video ID: {video_id}\")\n",
        "        for segment_num, times in segment_info.items():\n",
        "            print(f\"    Segment Number: {segment_num}\")\n",
        "            print(f\"      Start Time: {times[0]}\")\n",
        "            print(f\"      End Time: {times[1]}\")\n",
        "    print()\n",
        "\n",
        "# # Example: Accessing a specific piece of information\n",
        "# example_playlist_id = \"1ESOfxO78B8\"\n",
        "# example_video_id = \"PL_oohi_O51Z_lORk8SCG_4x1smii5ky7f\"\n",
        "# example_segment_num = \"2\"\n",
        "# print(\"Example segment information:\", extracted_info[example_playlist_id][example_video_id][example_segment_num])\n"
      ],
      "metadata": {
        "colab": {
          "base_uri": "https://localhost:8080/"
        },
        "id": "vkO9LDGNQenQ",
        "outputId": "c94491cc-29e7-4110-ce19-7e4979aa29af"
      },
      "execution_count": null,
      "outputs": [
        {
          "output_type": "stream",
          "name": "stdout",
          "text": [
            "Playlist ID: 1ESOfxO78B8\n",
            "  Video ID: PL_oohi_O51Z_lORk8SCG_4x1smii5ky7f\n",
            "    Segment Number: 2\n",
            "      Start Time: 00:00:23.500\n",
            "      End Time: 00:00:46.700\n",
            "    Segment Number: 3\n",
            "      Start Time: 00:00:52.000\n",
            "      End Time: 00:00:58.800\n",
            "    Segment Number: 4\n",
            "      Start Time: 00:00:00.000\n",
            "      End Time: 00:00:15.500\n",
            "\n"
          ]
        }
      ]
    },
    {
      "cell_type": "code",
      "source": [
        "extracted_info"
      ],
      "metadata": {
        "colab": {
          "base_uri": "https://localhost:8080/"
        },
        "id": "GRHPbY5hRRWn",
        "outputId": "b19e4c85-e9bc-4bf0-92e9-de6c7c8829c9"
      },
      "execution_count": null,
      "outputs": [
        {
          "output_type": "execute_result",
          "data": {
            "text/plain": [
              "defaultdict(<function __main__.<lambda>()>,\n",
              "            {'1ESOfxO78B8': defaultdict(<function __main__.<lambda>.<locals>.<lambda>()>,\n",
              "                         {'PL_oohi_O51Z_lORk8SCG_4x1smii5ky7f': defaultdict(list,\n",
              "                                      {'2': ['00:00:23.500', '00:00:46.700'],\n",
              "                                       '3': ['00:00:52.000', '00:00:58.800'],\n",
              "                                       '4': ['00:00:00.000',\n",
              "                                        '00:00:15.500']})})})"
            ]
          },
          "metadata": {},
          "execution_count": 22
        }
      ]
    },
    {
      "cell_type": "code",
      "source": [
        "# # Step 1: Install moviepy and ffmpeg\n",
        "# pip install moviepy\n",
        "# !apt-get install -y ffmpeg"
      ],
      "metadata": {
        "colab": {
          "base_uri": "https://localhost:8080/"
        },
        "id": "JGFE0d5bQeqI",
        "outputId": "19a3134a-9392-47f9-ae93-2a5b4e6c704a"
      },
      "execution_count": null,
      "outputs": [
        {
          "output_type": "stream",
          "name": "stdout",
          "text": [
            "Reading package lists... Done\n",
            "Building dependency tree... Done\n",
            "Reading state information... Done\n",
            "ffmpeg is already the newest version (7:4.4.2-0ubuntu0.22.04.1).\n",
            "0 upgraded, 0 newly installed, 0 to remove and 45 not upgraded.\n"
          ]
        }
      ]
    },
    {
      "cell_type": "code",
      "source": [
        "# Step 2: Import necessary libraries\n",
        "import moviepy.editor as mp\n",
        "import os\n",
        "from collections import defaultdict\n",
        "\n",
        "# Step 3: Define the audio paths and timestamps\n",
        "audio_paths = [\n",
        "    \"/content/drive/MyDrive/Colab Notebooks/1ESOfxO78B8#9#PL_oohi_O51Z_lORk8SCG_4x1smii5ky7f#segment#2.wav\",\n",
        "    \"/content/drive/MyDrive/Colab Notebooks/1ESOfxO78B8#9#PL_oohi_O51Z_lORk8SCG_4x1smii5ky7f#segment#3.wav\",\n",
        "    \"/content/drive/MyDrive/Colab Notebooks/1ESOfxO78B8#9#PL_oohi_O51Z_lORk8SCG_4x1smii5ky7f#segment#4.wav\"\n",
        "]\n",
        "\n",
        "timestamps = defaultdict(lambda: defaultdict(lambda: defaultdict(list)))\n",
        "timestamps['1ESOfxO78B8']['PL_oohi_O51Z_lORk8SCG_4x1smii5ky7f']['2'] = ['00:00:23.500', '00:00:46.700']\n",
        "timestamps['1ESOfxO78B8']['PL_oohi_O51Z_lORk8SCG_4x1smii5ky7f']['3'] = ['00:00:52.000', '00:00:58.800']\n",
        "timestamps['1ESOfxO78B8']['PL_oohi_O51Z_lORk8SCG_4x1smii5ky7f']['4'] = ['00:00:00.000', '00:00:15.500']\n",
        "\n",
        "# Step 4: Define a helper function to convert time to seconds\n",
        "def convert_to_seconds(time_str):\n",
        "    h, m, s = time_str.split(':')\n",
        "    return int(h) * 3600 + int(m) * 60 + float(s)\n",
        "\n",
        "# Step 5: List to hold cut audio clips\n",
        "cut_clips = []\n",
        "\n",
        "# Create necessary directories if they don't exist\n",
        "cut_output_dir = \"/content/drive/MyDrive/Colab Notebooks/20240517/result/cut_segment\"\n",
        "merge_output_dir = \"/content/drive/MyDrive/Colab Notebooks/20240517/result/merge\"\n",
        "os.makedirs(cut_output_dir, exist_ok=True)\n",
        "os.makedirs(merge_output_dir, exist_ok=True)\n",
        "\n",
        "# Step 6: Process each audio file based on its segment number and timestamps\n",
        "for audio_path in audio_paths:\n",
        "    segment_num = audio_path.split(\"#\")[-1].split('.')[0]\n",
        "    playlist_id = '1ESOfxO78B8'\n",
        "    video_id = 'PL_oohi_O51Z_lORk8SCG_4x1smii5ky7f'\n",
        "\n",
        "    if segment_num in timestamps[playlist_id][video_id]:\n",
        "        start_time, end_time = timestamps[playlist_id][video_id][segment_num]\n",
        "        start_seconds = convert_to_seconds(start_time)\n",
        "        end_seconds = convert_to_seconds(end_time)\n",
        "\n",
        "        try:\n",
        "            # Load the audio\n",
        "            audio = mp.AudioFileClip(audio_path)\n",
        "\n",
        "            # Cut the audio\n",
        "            cut_audio = audio.subclip(start_seconds, end_seconds)\n",
        "\n",
        "            # Add the cut audio to the list\n",
        "            cut_clips.append(cut_audio)\n",
        "\n",
        "            # Define the output path\n",
        "            output_filename = f\"cut_segment_{segment_num}.wav\"\n",
        "            output_path = os.path.join(cut_output_dir, output_filename)\n",
        "\n",
        "            # Save the cut audio\n",
        "            cut_audio.write_audiofile(output_path)\n",
        "            print(f\"Audio segment {segment_num} cut successfully and saved to {output_path}\")\n",
        "\n",
        "        except Exception as e:\n",
        "            print(f\"Error processing audio segment {segment_num}: {e}\")\n",
        "\n",
        "# Step 7: Concatenate the cut audio clips\n",
        "if cut_clips:\n",
        "    final_clip = mp.concatenate_audioclips(cut_clips)\n",
        "    final_output_path = os.path.join(merge_output_dir, \"merged_audio.wav\")\n",
        "    final_clip.write_audiofile(final_output_path)\n",
        "    print(f\"Merged audio saved to {final_output_path}\")\n",
        "\n",
        "print(\"All audio segments have been processed and merged.\")\n"
      ],
      "metadata": {
        "colab": {
          "base_uri": "https://localhost:8080/"
        },
        "id": "1fjnOG7FSnEM",
        "outputId": "0d7489d7-135d-4a51-e219-d4fe27a1b99e"
      },
      "execution_count": null,
      "outputs": [
        {
          "output_type": "stream",
          "name": "stderr",
          "text": [
            "\n",
            "\n",
            "chunk:   3%|▎         | 27/1004 [02:43<1:38:40,  6.06s/it, now=None]\n",
            "\n",
            "chunk:   3%|▎         | 29/1004 [01:45<59:17,  3.65s/it, now=None]\u001b[A\u001b[A"
          ]
        },
        {
          "output_type": "stream",
          "name": "stdout",
          "text": [
            "MoviePy - Writing audio in /content/drive/MyDrive/Colab Notebooks/20240517/result/cut_segment/cut_segment_2.wav\n"
          ]
        },
        {
          "output_type": "stream",
          "name": "stderr",
          "text": [
            "\n",
            "chunk:   0%|          | 0/512 [00:00<?, ?it/s, now=None]\u001b[A\n",
            "chunk:  36%|███▌      | 185/512 [00:00<00:00, 1846.06it/s, now=None]\u001b[A\n",
            "chunk:  80%|███████▉  | 409/512 [00:00<00:00, 2047.78it/s, now=None]\u001b[A\n",
            "\n",
            "\n",
            "chunk:   3%|▎         | 27/1004 [02:43<1:38:51,  6.07s/it, now=None]\n",
            "\n",
            "\n",
            "\n",
            "chunk:   3%|▎         | 27/1004 [02:43<1:38:53,  6.07s/it, now=None]\n",
            "\n",
            "chunk:   3%|▎         | 29/1004 [01:46<59:29,  3.66s/it, now=None]\u001b[A\u001b[A"
          ]
        },
        {
          "output_type": "stream",
          "name": "stdout",
          "text": [
            "MoviePy - Done.\n",
            "Audio segment 2 cut successfully and saved to /content/drive/MyDrive/Colab Notebooks/20240517/result/cut_segment/cut_segment_2.wav\n",
            "MoviePy - Writing audio in /content/drive/MyDrive/Colab Notebooks/20240517/result/cut_segment/cut_segment_3.wav\n"
          ]
        },
        {
          "output_type": "stream",
          "name": "stderr",
          "text": [
            "\n",
            "chunk:   0%|          | 0/150 [00:00<?, ?it/s, now=None]\u001b[A\n",
            "\n",
            "\n",
            "chunk:   3%|▎         | 27/1004 [02:44<1:38:58,  6.08s/it, now=None]\n",
            "\n",
            "\n",
            "\n",
            "chunk:   3%|▎         | 27/1004 [02:44<1:39:00,  6.08s/it, now=None]\n",
            "\n",
            "chunk:   3%|▎         | 29/1004 [01:46<59:36,  3.67s/it, now=None]\u001b[A\u001b[A"
          ]
        },
        {
          "output_type": "stream",
          "name": "stdout",
          "text": [
            "MoviePy - Done.\n",
            "Audio segment 3 cut successfully and saved to /content/drive/MyDrive/Colab Notebooks/20240517/result/cut_segment/cut_segment_3.wav\n",
            "MoviePy - Writing audio in /content/drive/MyDrive/Colab Notebooks/20240517/result/cut_segment/cut_segment_4.wav\n"
          ]
        },
        {
          "output_type": "stream",
          "name": "stderr",
          "text": [
            "\n",
            "chunk:   0%|          | 0/342 [00:00<?, ?it/s, now=None]\u001b[A\n",
            "chunk:  60%|█████▉    | 205/342 [00:00<00:00, 2045.04it/s, now=None]\u001b[A\n",
            "\n",
            "\n",
            "chunk:   3%|▎         | 27/1004 [02:44<1:39:08,  6.09s/it, now=None]\n",
            "\n",
            "\n",
            "\n",
            "chunk:   3%|▎         | 27/1004 [02:44<1:39:08,  6.09s/it, now=None]\n",
            "\n",
            "chunk:   3%|▎         | 29/1004 [01:46<59:43,  3.68s/it, now=None]\u001b[A\u001b[A"
          ]
        },
        {
          "output_type": "stream",
          "name": "stdout",
          "text": [
            "MoviePy - Done.\n",
            "Audio segment 4 cut successfully and saved to /content/drive/MyDrive/Colab Notebooks/20240517/result/cut_segment/cut_segment_4.wav\n",
            "MoviePy - Writing audio in /content/drive/MyDrive/Colab Notebooks/20240517/result/merge/merged_audio.wav\n"
          ]
        },
        {
          "output_type": "stream",
          "name": "stderr",
          "text": [
            "\n",
            "chunk:   0%|          | 0/1004 [00:00<?, ?it/s, now=None]\u001b[A\n",
            "chunk:   5%|▍         | 50/1004 [00:00<00:01, 498.12it/s, now=None]\u001b[A\n",
            "chunk:  21%|██        | 211/1004 [00:00<00:00, 1151.07it/s, now=None]\u001b[A\n",
            "chunk:  39%|███▉      | 396/1004 [00:00<00:00, 1466.24it/s, now=None]\u001b[A\n",
            "chunk:  54%|█████▍    | 543/1004 [00:00<00:00, 1372.11it/s, now=None]\u001b[A\n",
            "chunk:  68%|██████▊   | 683/1004 [00:00<00:00, 1379.97it/s, now=None]\u001b[A\n",
            "chunk:  84%|████████▍ | 843/1004 [00:00<00:00, 1451.28it/s, now=None]\u001b[A\n",
            "\n",
            "\n",
            "chunk:   3%|▎         | 27/1004 [02:45<1:39:35,  6.12s/it, now=None]\n",
            "\n",
            "chunk:   3%|▎         | 29/1004 [01:47<1:00:09,  3.70s/it, now=None]\u001b[A\u001b[A"
          ]
        },
        {
          "output_type": "stream",
          "name": "stdout",
          "text": [
            "MoviePy - Done.\n",
            "Merged audio saved to /content/drive/MyDrive/Colab Notebooks/20240517/result/merge/merged_audio.wav\n",
            "All audio segments have been processed and merged.\n"
          ]
        }
      ]
    },
    {
      "cell_type": "code",
      "source": [],
      "metadata": {
        "id": "PYCDScAzSnKL"
      },
      "execution_count": null,
      "outputs": []
    }
  ]
}