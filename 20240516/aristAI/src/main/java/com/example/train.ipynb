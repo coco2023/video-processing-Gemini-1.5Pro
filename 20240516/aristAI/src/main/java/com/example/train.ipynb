{
  "nbformat": 4,
  "nbformat_minor": 0,
  "metadata": {
    "colab": {
      "provenance": [],
      "authorship_tag": "ABX9TyPtuTUias8TGFDS+Gme5vDQ",
      "include_colab_link": true
    },
    "kernelspec": {
      "name": "python3",
      "display_name": "Python 3"
    },
    "language_info": {
      "name": "python"
    }
  },
  "cells": [
    {
      "cell_type": "markdown",
      "metadata": {
        "id": "view-in-github",
        "colab_type": "text"
      },
      "source": [
        "<a href=\"https://colab.research.google.com/github/coco2023/videos-processing/blob/main/20240516/aristAI/src/main/java/com/example/train.ipynb\" target=\"_parent\"><img src=\"https://colab.research.google.com/assets/colab-badge.svg\" alt=\"Open In Colab\"/></a>"
      ]
    },
    {
      "cell_type": "code",
      "execution_count": 1,
      "metadata": {
        "colab": {
          "base_uri": "https://localhost:8080/"
        },
        "id": "p8h9Eus77fA7",
        "outputId": "a2237286-3636-4cca-fbb9-f3acf7f1babd"
      },
      "outputs": [
        {
          "output_type": "stream",
          "name": "stdout",
          "text": [
            "\u001b[2K     \u001b[90m━━━━━━━━━━━━━━━━━━━━━━━━━━━━━━━━━━━━━━━━\u001b[0m \u001b[32m150.7/150.7 kB\u001b[0m \u001b[31m4.4 MB/s\u001b[0m eta \u001b[36m0:00:00\u001b[0m\n",
            "\u001b[2K     \u001b[90m━━━━━━━━━━━━━━━━━━━━━━━━━━━━━━━━━━━━━━━━\u001b[0m \u001b[32m679.1/679.1 kB\u001b[0m \u001b[31m26.7 MB/s\u001b[0m eta \u001b[36m0:00:00\u001b[0m\n",
            "\u001b[?25h"
          ]
        }
      ],
      "source": [
        "!pip install -U -q google-generativeai"
      ]
    },
    {
      "cell_type": "code",
      "source": [
        "from google.colab import drive\n",
        "drive.mount('/content/drive')"
      ],
      "metadata": {
        "colab": {
          "base_uri": "https://localhost:8080/"
        },
        "id": "gDRVE4AI8R8U",
        "outputId": "ba94027c-6051-469a-d694-dc6486eed69d"
      },
      "execution_count": 7,
      "outputs": [
        {
          "output_type": "stream",
          "name": "stdout",
          "text": [
            "Mounted at /content/drive\n"
          ]
        }
      ]
    },
    {
      "cell_type": "code",
      "source": [
        "import google.generativeai as genai"
      ],
      "metadata": {
        "id": "y-9IA7Mc7s0O"
      },
      "execution_count": 2,
      "outputs": []
    },
    {
      "cell_type": "code",
      "source": [
        "from google.colab import userdata\n",
        "GOOGLE_API_KEY=userdata.get('GOOGLE_API_KEY2')\n",
        "genai.configure(api_key=GOOGLE_API_KEY)"
      ],
      "metadata": {
        "id": "lUfsiArv7s7e"
      },
      "execution_count": 3,
      "outputs": []
    },
    {
      "cell_type": "code",
      "source": [
        "text_file_name = \"/content/drive/MyDrive/Colab Notebooks/transcriptions.txt\"\n",
        "print(f\"Uploading file...\")\n",
        "text_file = genai.upload_file(path=text_file_name)\n",
        "print(f\"Completed upload: {text_file.uri}\")"
      ],
      "metadata": {
        "colab": {
          "base_uri": "https://localhost:8080/",
          "height": 53
        },
        "id": "1g-cxHRx7s-G",
        "outputId": "b1542ca6-5284-49ab-bc0c-01214ccbb494"
      },
      "execution_count": 8,
      "outputs": [
        {
          "output_type": "stream",
          "name": "stdout",
          "text": [
            "Uploading file...\n",
            "Completed upload: https://generativelanguage.googleapis.com/v1beta/files/bnoni34yns0p\n"
          ]
        }
      ]
    },
    {
      "cell_type": "code",
      "source": [
        "prompt = \"what does the content with id 1ESOfxO78B8 tell us? also please return the referred infomation （original sentences in txt file) you use to generate the answer\"\n",
        "# prompt = \"what is the format & sample of the txt file? how you understand the txt file?\"\n",
        "model = genai.GenerativeModel(model_name=\"models/gemini-1.5-pro-latest\")\n",
        "\n",
        "response = model.generate_content([prompt, text_file],\n",
        "                                  request_options={\"timeout\": 600})\n",
        "print(response.text)"
      ],
      "metadata": {
        "colab": {
          "base_uri": "https://localhost:8080/",
          "height": 662
        },
        "id": "D6c4-o7k7tAu",
        "outputId": "c4f4c5b6-96e5-4bb0-feb4-e44ab6239523"
      },
      "execution_count": 6,
      "outputs": [
        {
          "output_type": "stream",
          "name": "stdout",
          "text": [
            "The content with id 1ESOfxO78B8 tells us about a series of meetings conducted across the country by the Federal Reserve to gather information about the challenges facing small businesses, particularly in terms of access to credit. These meetings involved small business owners, lenders, bank supervisors, government officials, and other stakeholders. \n",
            "\n",
            "The meetings highlighted the critical role of small businesses in job creation and economic recovery, the difficulties small businesses face in accessing credit, and the need for collaboration among stakeholders to address these challenges.\n",
            "\n",
            "Here are some of the key findings from the meetings:\n",
            "\n",
            "* **Importance of Small Businesses:** Small businesses employ roughly half of all Americans and account for about 60% of gross job creation, making them essential for economic recovery.\n",
            "* **Credit Challenges:**  Small businesses are facing difficulties in accessing credit, with many reporting tight credit conditions. The decline in collateral values, particularly real estate, poses a significant challenge.\n",
            "* **Collaboration is Key:** Addressing the issues faced by small businesses requires collaboration among lenders, policymakers, and other stakeholders. The meeting series itself served as a model for such collaboration.\n",
            "* **Diverse Needs:** The term \"small business\" encompasses a diverse range of enterprises, each facing a unique set of challenges. Therefore, one-size-fits-all solutions are not effective.\n",
            "* **Declining Collateral Values:** The decline in the value of real estate and other collateral used to secure loans is a significant challenge for small businesses.\n",
            "* **Need for Working Capital:** Business owners cited credit lines and working capital as their most critical financial needs. \n",
            "* **Need for Patient Capital:** There is a need for patient capital from investors willing to commit funds for 5 to 10 years without an expectation of immediate returns.\n",
            "* **Concerns about Regulatory Burden:** Some lenders expressed concerns about the effects of regulatory procedures and guidance on small business lending.\n",
            "\n",
            "\n",
            "**Original Sentences from the Text:**\n",
            "\n",
            "* **Importance of Small Businesses:**\n",
            "    * \"Small businesses are essential to creating jobs in our economy they employ roughly one half of all Americans and accounts for about 60% of gross job creation\"\n",
            "    * \"clearly do to support the recovery we need to find ways to ensure the credit-worthy borrowers have access to needed loans\"\n",
            "* **Credit Challenges:** \n",
            "    * \"census report that credit conditions remain very difficult for example the net percentage of survey respondents telling the national Federation of Independent Business that credit conditions have Titan over the prior three months has remained extremely elevated by historical standards\"\n",
            "    * \"business owners frequently noted that the declining values of real estate and other collateral securing their loans poses a particularly severe challenge\"\n",
            "* **Collaboration is Key:** \n",
            "    * \"one of the most important seems underscore during the meetings is that solving the issues faced buy small businesses will require collaboration\"\n",
            "    * \"the meeting series itself served as a model of collaboration interactive discussion and Cooperative problem solving\"\n",
            "* **Diverse Needs:**\n",
            "    * \"notably the term small business any compasses a heterogeneous mixture of Enterprises ranging from pizzerias to start of Technology firms and each small business faces a unique combination of Local Economic conditions and complex relationships with customers suppliers and creditors hence we should be wary of one-size-fits-all solutions\"\n",
            "* **Concerns about Regulatory Burden:**\n",
            "    * \"and Regulators for their part need to continue to work with lenders to help them do all that they prudently can to meet the needs of credit where these small businesses\"\n",
            "    * \"and we believe that ours and other efforts are making a big difference we also know that more must be done and that additional effective action requires hearing free 10 knowledgeable people who can speak from diverse perspectives about the challenges now facing small businesses\"\n",
            "\n",
            "This is just a brief summary of the content of 1ESOfxO78B8. You can read the full transcript for a more detailed understanding of the issues discussed. \n",
            "\n"
          ]
        }
      ]
    }
  ]
}